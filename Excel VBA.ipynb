{
 "cells": [
  {
   "cell_type": "markdown",
   "id": "ce5c26b8",
   "metadata": {
    "toc": true
   },
   "source": [
    "<h1>Table of Contents<span class=\"tocSkip\"></span></h1>\n",
    "<div class=\"toc\"><ul class=\"toc-item\"></ul></div>"
   ]
  },
  {
   "cell_type": "code",
   "execution_count": null,
   "id": "13952fcc",
   "metadata": {},
   "outputs": [],
   "source": [
    "Sub 매크로1()\n",
    "    \n",
    "    Dim MyWB As Workbook\n",
    "    Dim OPWB As Workbook\n",
    "    Dim F_dlg As FileDialog\n",
    "    Dim F_Path, F_Name, F_Format As String\n",
    "    \n",
    "    '현재 Workbook의 변수 선언\n",
    "    Set MyWB = ActiveWorkbook\n",
    "    \n",
    "    '취합 폴더 설정\n",
    "    Set F_dlg = Application.FileDialog(msoFileDialogFolderPicker)\n",
    "    F_dlg.Show\n",
    "    \n",
    "    F_Path = F_dlg.SelectedItems(1)\n",
    "    F_Name = Dir(F_Path & \"\\*.*\")\n",
    "    \n",
    "    '폴더내에서 파일이름읽어 반복하기\n",
    "    Do While F_Name <> \"\"\n",
    "        F_Format = Right(F_Name, 4)\n",
    "        '확장자 명이 엑셀 파일일때만 실행\n",
    "        If F_Format = \"xlsm\" Or F_Format = \"xlsx\" Or F_Format = \".xls\" Then\n",
    "            '데이터 Workbook 변수선언\n",
    "            Set OPWB = Workbooks.Open(F_Path & \"\\\" & F_Name)\n",
    "            OPWB.Sheets(1).Range(\"B5\").Select\n",
    "            '조건에 맞을 경우 취합 작업\n",
    "            If Selection.Value <> \"\" Then\n",
    "                'Put your code\n",
    "                Range(\"B9999\").Select\n",
    "                With Selection.Interior\n",
    "                    .Pattern = xlSolid\n",
    "                    .PatternColorIndex = xlAutomatic\n",
    "                    .ThemeColor = xlThemeColorAccent6\n",
    "                    .TintAndShade = 0\n",
    "                    .PatternTintAndShade = 0\n",
    "                End With\n",
    "                        \n",
    "            End If\n",
    "        End If\n",
    "        F_Name = Dir()\n",
    "    Loop\n",
    "End Sub"
   ]
  }
 ],
 "metadata": {
  "kernelspec": {
   "display_name": "Python 3",
   "language": "python",
   "name": "python3"
  },
  "language_info": {
   "codemirror_mode": {
    "name": "ipython",
    "version": 3
   },
   "file_extension": ".py",
   "mimetype": "text/x-python",
   "name": "python",
   "nbconvert_exporter": "python",
   "pygments_lexer": "ipython3",
   "version": "3.8.8"
  },
  "toc": {
   "base_numbering": 1,
   "nav_menu": {},
   "number_sections": true,
   "sideBar": true,
   "skip_h1_title": true,
   "title_cell": "Table of Contents",
   "title_sidebar": "Contents",
   "toc_cell": true,
   "toc_position": {},
   "toc_section_display": true,
   "toc_window_display": true
  }
 },
 "nbformat": 4,
 "nbformat_minor": 5
}
